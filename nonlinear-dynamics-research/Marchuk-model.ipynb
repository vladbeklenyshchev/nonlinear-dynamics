{
 "cells": [
  {
   "cell_type": "markdown",
   "metadata": {},
   "source": [
    "### Задание 2\n",
    "#### Условие\n",
    "VI. Г. И. Марчук предложил модель, которая описывает борьбу вирусов\n",
    "$N_1 (t)$, антител $N_2 (t)$, и плазматических клеток $N_3 (t)$ в человеческом организме,\n",
    "зараженном вирусной инфекцией. Мера зараженности определяется переменной\n",
    "величиной $m(t)$. Модель Марчука описывается следующей системой уравнений:\n",
    "\\begin{cases}\n",
    " \\dot N_1(t) = (\\epsilon - \\gamma N_2(t))N_1(t), \\\\\n",
    " \\dot N_2(t) = \\rho N_3(t) - (\\mu + \\nu \\gamma N_1(t))N_2(t),(2) \\\\\n",
    " \\dot N_3(t) = \\alpha N_1(t) N_2(t) - N_3(t) (N_3 - N_3^*) \\\\\n",
    " \\dot m(t) = \\sigma N_1 - \\mu m(t).\n",
    "\\end{cases}\n",
    "Здесь $\\epsilon = 2$, $\\gamma = 0.8$, $\\rho = 0.17$, $\\mu = 0.5$, $\\nu \\gamma = 8$; $\\alpha = 10^4$ , если $m ≤ 0.1$;\n",
    "$\\alpha = 10^5(1 − m)/9$, если $0.1 ≤ m ≤ 1$; $\\sigma > 0$.\n",
    "Задачи:\n",
    "1. Найти положения равновесия системы (2).\n",
    "2. Исследовать на устойчивость положения равновесия системы (2).\n",
    "3. Построить фазовые портреты системы (2) для разных начальных условий.\n",
    "4. Установить бифуркационные значения параметра $\\sigma$ для $N_3(t)$."
   ]
  },
  {
   "cell_type": "markdown",
   "metadata": {},
   "source": [
    "#### Решение задачи 2"
   ]
  },
  {
   "cell_type": "code",
   "execution_count": 2,
   "metadata": {
    "collapsed": true
   },
   "outputs": [],
   "source": [
    "%matplotlib notebook\n",
    "from numpy import *\n",
    "import pylab as p\n",
    "from scipy.integrate import odeint\n",
    "\n",
    "# Definition of parameters\n",
    "\n",
    "def dN_dt(N, t=0):\n",
    "    return array([ (eps - gamma*N[1])*N[0],\n",
    "                   rho * N[2] - (mu + nu*gamma*N[0])*N[1],\n",
    "                  alpha*N[0]*N[1] - N[2]*(N[2] - N2_lag),\n",
    "                  sigma*N[0] - mu*N[3]\n",
    "                 ])"
   ]
  },
  {
   "cell_type": "code",
   "execution_count": 3,
   "metadata": {
    "collapsed": true
   },
   "outputs": [],
   "source": [
    "#parameters\n",
    "eps = 2\n",
    "gamma = 0.8\n",
    "rho = 0.17\n",
    "mu = 0.5\n",
    "nu = 10\n",
    "alpha = 10000\n",
    "m = 0.09\n",
    "# another paramerets\n"
   ]
  }
 ],
 "metadata": {
  "kernelspec": {
   "display_name": "Python [conda root]",
   "language": "python",
   "name": "conda-root-py"
  },
  "language_info": {
   "codemirror_mode": {
    "name": "ipython",
    "version": 3
   },
   "file_extension": ".py",
   "mimetype": "text/x-python",
   "name": "python",
   "nbconvert_exporter": "python",
   "pygments_lexer": "ipython3",
   "version": "3.5.2"
  }
 },
 "nbformat": 4,
 "nbformat_minor": 1
}
